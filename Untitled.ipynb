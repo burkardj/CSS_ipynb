{
 "cells": [
  {
   "cell_type": "code",
   "execution_count": 86,
   "metadata": {},
   "outputs": [
    {
     "name": "stdout",
     "output_type": "stream",
     "text": [
      "     Data     SAGITTAL      FRONTAL\n",
      "0    -100  1175.890000   122.100000\n",
      "1     -99  1142.263971   114.324083\n",
      "2     -98  1109.329628   106.777953\n",
      "3     -97  1077.077928    99.458056\n",
      "4     -96  1045.499889    92.360866\n",
      "..    ...          ...          ...\n",
      "396   296  6970.278519  2313.700680\n",
      "397   297  7092.581791  2361.195080\n",
      "398   298  7216.482337  2409.355909\n",
      "399   299  7341.993830  2458.188948\n",
      "400   300  7469.130000  2507.700000\n",
      "\n",
      "[401 rows x 3 columns]\n"
     ]
    }
   ],
   "source": [
    "#THIS DATA SET IS MADE TO A. FIRST REGRESS THE MOUTH ARCH DATA to THE BEST POSSIBLE FITTING and to B. USE THOSE DATA FOR FUR\n",
    "\n",
    "\n",
    "import numpy as np\n",
    "import csv\n",
    "from numpy import *\n",
    "import pandas as pd\n",
    "from scipy.optimize import curve_fit\n",
    "from matplotlib.pyplot import * \n",
    "\n",
    "data = pd.read_excel(r'C:\\Users\\burka\\OneDrive\\Desktop\\Phd2\\Experiments\\004_Sensorik Test 1\\Modelling\\RawDataArch.xlsx')\n",
    "data.head() # to display the first 5 lines of loaded data\n",
    "display = pd.DataFrame(data,columns = ['Data','Biometric Sagittal','Biometric Frontal'])\n",
    "display_2 = pd.DataFrame(data,columns = ['Data','SAGITTAL','FRONTAL'])\n",
    "print(display_2)"
   ]
  },
  {
   "cell_type": "code",
   "execution_count": 87,
   "metadata": {},
   "outputs": [],
   "source": [
    "x = display['Data'][100:210]\n",
    "y_Sag = display['Biometric Sagittal'][100:210]\n",
    "y_Sag_Data = display_2['SAGITTAL'][100:210]\n",
    "y_Frontal = display['Biometric Frontal'][100:210]\n",
    "y_Frontal_Data = display_2['FRONTAL'][100:210]\n",
    "\n",
    "\n",
    "curve = np.polyfit(x,y_Sag,4)\n",
    "poly = np.poly1d(curve)\n",
    "\n",
    "\n",
    "\n",
    "\n",
    "#subplot(111)\n",
    "#plot(x,y_Sag,\"x\")\n",
    "#plot(x,polyval(poly,x))\n"
   ]
  },
  {
   "cell_type": "code",
   "execution_count": 109,
   "metadata": {},
   "outputs": [],
   "source": [
    "import numpy\n",
    "\n",
    "# Polynomial Regression\n",
    "def polyfit(x, y, degree):\n",
    "   \n",
    "    results = {}\n",
    "\n",
    "    coeffs = numpy.polyfit(x, y, degree)\n",
    "\n",
    "     # Polynomial Coefficients\n",
    "    results['polynomial'] = coeffs.tolist()\n",
    "\n",
    "    # r-squared\n",
    "    p = numpy.poly1d(coeffs)\n",
    "    # fit values, and mean\n",
    "    yhat = p(x)                         # or [p(z) for z in x]\n",
    "    ybar = numpy.sum(y)/len(y)          # or sum(y)/len(y)\n",
    "    ssreg = numpy.sum((yhat-ybar)**2)   # or sum([ (yihat - ybar)**2 for yihat in yhat])\n",
    "    sstot = numpy.sum((y - ybar)**2)    # or sum([ (yi - ybar)**2 for yi in y])\n",
    "    results = ssreg / sstot\n",
    "\n",
    "    return results\n",
    "\n",
    "\n",
    "# Define which is the best curve -fitted polynomial degree\n",
    "def polycurve(x,y,n):\n",
    "    list = []\n",
    "    for z in range(1,n+1):\n",
    "        list.append(polyfit(x,y,z))\n",
    "    list_max = max(list)\n",
    "    indexe = list.index(list_max) + 1 \n",
    "    return list, indexe \n"
   ]
  },
  {
   "cell_type": "code",
   "execution_count": 111,
   "metadata": {},
   "outputs": [
    {
     "data": {
      "text/plain": [
       "([0.8884410839832227, 0.987456011973566], 2)"
      ]
     },
     "execution_count": 111,
     "metadata": {},
     "output_type": "execute_result"
    }
   ],
   "source": [
    "polycurve(x,y_Sag,2)"
   ]
  },
  {
   "cell_type": "code",
   "execution_count": 130,
   "metadata": {},
   "outputs": [
    {
     "data": {
      "image/png": "[encoded data removed]",
      "text/plain": [
       "<Figure size 432x288 with 1 Axes>"
      ]
     },
     "metadata": {
      "needs_background": "light"
     },
     "output_type": "display_data"
    }
   ],
   "source": [
    "title('title')\n",
    "plot(x,y_Sag,marker ='o',linewidth = 1, linestyle = 'dashed', label='dfldafalsdfkds')\n",
    "plot(x,polyval(poly,x), marker = '', linestyle = 'dashed', label = 'hallo')\n",
    "xlabel('fdsf')\n",
    "ylabel('dfdsf')\n",
    "legend()\n",
    "\n",
    "show()"
   ]
  },
  {
   "cell_type": "code",
   "execution_count": null,
   "metadata": {},
   "outputs": [],
   "source": [
    "import numpy\n",
    "\n",
    "# Polynomial Regression\n",
    "def polyfit(x, y, degree):\n",
    "    for z in range(1,degree+1):\n",
    "        results = {}\n",
    "\n",
    "        coeffs = numpy.polyfit(x, y, degree)\n",
    "\n",
    "         # Polynomial Coefficients\n",
    "        results['polynomial'] = coeffs.tolist()\n",
    "\n",
    "        # r-squared\n",
    "        p = numpy.poly1d(coeffs)\n",
    "        # fit values, and mean\n",
    "        yhat = p(x)                         # or [p(z) for z in x]\n",
    "        ybar = numpy.sum(y)/len(y)          # or sum(y)/len(y)\n",
    "        ssreg = numpy.sum((yhat-ybar)**2)   # or sum([ (yihat - ybar)**2 for yihat in yhat])\n",
    "        sstot = numpy.sum((y - ybar)**2)    # or sum([ (yi - ybar)**2 for yi in y])\n",
    "        results = ssreg / sstot\n",
    "\n",
    "        return results\n"
   ]
  }
 ],
 "metadata": {
  "kernelspec": {
   "display_name": "Python 3",
   "language": "python",
   "name": "python3"
  },
  "language_info": {
   "codemirror_mode": {
    "name": "ipython",
    "version": 3
   },
   "file_extension": ".py",
   "mimetype": "text/x-python",
   "name": "python",
   "nbconvert_exporter": "python",
   "pygments_lexer": "ipython3",
   "version": "3.8.5"
  }
 },
 "nbformat": 4,
 "nbformat_minor": 4
}
