{
 "cells": [
  {
   "cell_type": "markdown",
   "metadata": {},
   "source": [
    "# Finding a Pupil in an Image, using OpenCV"
   ]
  },
  {
   "cell_type": "markdown",
   "metadata": {},
   "source": [
    "FindPupil demonstrates how *OpenCV* can be used to find the pupil in an image\n",
    "of the eye. This includes ademonstration of a number of important image\n",
    "processing steps in OpenCV, using Python-CV2.\n",
    "To run, the file `eye.bmp` is required.\n",
    "\n",
    "The following steps are included:\n",
    "\n",
    "- Converting the image to grayscale\n",
    "- Calculating and showing the histogram\n",
    "- Interactively setting the threshold for b/w conversion\n",
    "- Filling holes\n",
    "- Opening the image\n",
    "- Fitting an edge to the pupil\n",
    "\n",
    "Note that when you run this notebook, openCV often opens the video and image windows in the background, and waits for your response!"
   ]
  },
  {
   "cell_type": "markdown",
   "metadata": {},
   "source": [
    "## Preliminaries"
   ]
  },
  {
   "cell_type": "code",
   "execution_count": 1,
   "metadata": {
    "collapsed": false
   },
   "outputs": [],
   "source": [
    "'''\n",
    "Author: Thomas Haslwanter\n",
    "Date:   May-2016\n",
    "Ver:    1.2\n",
    "'''\n",
    "\n",
    "%matplotlib inline\n",
    "import numpy as np\n",
    "import matplotlib.pyplot as plt\n",
    "import cv2\n",
    "\n",
    "def nothing(*arg):\n",
    "    ''' A dummy function for the trackbar. '''\n",
    "    pass"
   ]
  },
  {
   "cell_type": "markdown",
   "metadata": {},
   "source": [
    "## Load and Show Image"
   ]
  },
  {
   "cell_type": "markdown",
   "metadata": {},
   "source": [
    "Note here that to read and show the image, I use the commands from Matplolib. For reading the image, there is not much difference. For showing the image, the Matplotlib command shows the image \"inline\", whereas cv2.imshow creates a named, external window (see below)."
   ]
  },
  {
   "cell_type": "code",
   "execution_count": 6,
   "metadata": {},
   "outputs": [
    {
     "name": "stdout",
     "output_type": "stream",
     "text": [
      " Volume in drive D is Eagle\n",
      " Volume Serial Number is D84F-0E02\n",
      "\n",
      " Directory of D:\\Users\\thomas\\Data\\CloudStation\\CSS\\Coding\\CSS_ipynb\\data\\images\n",
      "\n",
      "21.04.2018  12:03    <DIR>          .\n",
      "21.04.2018  12:03    <DIR>          ..\n",
      "21.04.2018  12:03    <DIR>          [Originals]\n",
      "10.04.2017  13:27            21'679 1D_movement.png\n",
      "10.04.2017  13:27             4'469 Backward.png\n",
      "10.04.2017  13:27           191'193 basilar_membrane.png\n",
      "10.04.2017  13:27            80'711 cat.jpg\n",
      "10.04.2017  13:27             1'393 CCA_40.png\n",
      "13.04.2018  17:44           145'674 CombinedRotations.png\n",
      "10.04.2017  13:27            47'731 ComplexNumber.jpg\n",
      "10.04.2017  13:27            44'837 cupula_deflected.png\n",
      "10.04.2017  13:27             4'224 Feedback.png\n",
      "10.04.2017  13:27             4'171 Feedback_StateEstimation.png\n",
      "10.04.2017  13:27             4'584 Forward.png\n",
      "10.04.2017  13:27             8'743 Forward_Backward.png\n",
      "20.02.2012  17:35            22'352 Idea_FourierTransform.png\n",
      "10.04.2017  13:27            53'229 IIR_filter.jpg\n",
      "10.04.2017  13:27            78'851 labyrinth_labelled.png\n",
      "10.04.2017  13:27            69'214 lena.jpg\n",
      "10.04.2017  13:27            16'630 Lowpass.png\n",
      "10.04.2017  13:27             1'572 matlab_logo_s.jpg\n",
      "10.04.2017  13:27            33'950 MedEl_electrode.jpg\n",
      "10.04.2017  13:27            16'983 MovingFilter.jpg\n",
      "10.04.2017  13:27            47'659 Neural_Integrator.png\n",
      "10.04.2017  13:27             4'027 Neural-Integrator.gif\n",
      "10.04.2017  13:27             7'329 oto_canal_convergence.png\n",
      "10.04.2017  13:27             5'052 otolith_tilted.gif\n",
      "10.04.2017  13:27            21'884 Pharyngeal_flap_procedures3.gif\n",
      "10.04.2017  13:27           111'519 piano.jpg\n",
      "10.04.2017  13:27            20'663 Sample_gammatone.svg.png\n",
      "10.04.2017  13:27            36'833 SCC_stimulation_with_omega_.jpg\n",
      "10.04.2017  13:27           177'143 Semicircular_Canals.png\n",
      "10.04.2017  13:27            51'820 Simulation_CI.jpg\n",
      "10.04.2017  13:27           156'361 sound.png\n",
      "10.04.2017  13:27            23'260 SoundFiles.png\n",
      "10.04.2017  13:27            47'301 UtriShapeHair.jpg\n",
      "10.04.2017  13:27             6'228 WAV-chunks.png\n",
      "              34 File(s)      1'569'269 bytes\n",
      "               3 Dir(s)  776'651'448'320 bytes free\n"
     ]
    }
   ],
   "source": [
    "ls data\\images"
   ]
  },
  {
   "cell_type": "code",
   "execution_count": 2,
   "metadata": {
    "collapsed": false
   },
   "outputs": [
    {
     "ename": "FileNotFoundError",
     "evalue": "[Errno 2] No such file or directory: 'data\\\\images\\\\eye.bmp'",
     "output_type": "error",
     "traceback": [
      "\u001b[1;31m---------------------------------------------------------------------------\u001b[0m",
      "\u001b[1;31mFileNotFoundError\u001b[0m                         Traceback (most recent call last)",
      "\u001b[1;32m<ipython-input-2-8ae4793ca0d2>\u001b[0m in \u001b[0;36m<module>\u001b[1;34m()\u001b[0m\n\u001b[1;32m----> 1\u001b[1;33m \u001b[0mimg\u001b[0m \u001b[1;33m=\u001b[0m \u001b[0mplt\u001b[0m\u001b[1;33m.\u001b[0m\u001b[0mimread\u001b[0m\u001b[1;33m(\u001b[0m\u001b[1;34m'data\\images\\eye.bmp'\u001b[0m\u001b[1;33m)\u001b[0m\u001b[1;33m\u001b[0m\u001b[0m\n\u001b[0m\u001b[0;32m      2\u001b[0m \u001b[1;31m#img = cv2.imread('eye.bmp', cv2.CV_LOAD_IMAGE_GRAYSCALE)\u001b[0m\u001b[1;33m\u001b[0m\u001b[1;33m\u001b[0m\u001b[0m\n\u001b[0;32m      3\u001b[0m \u001b[0mplt\u001b[0m\u001b[1;33m.\u001b[0m\u001b[0mset_cmap\u001b[0m\u001b[1;33m(\u001b[0m\u001b[1;34m'gray'\u001b[0m\u001b[1;33m)\u001b[0m \u001b[1;31m# Set the colormap to \"gray\"\u001b[0m\u001b[1;33m\u001b[0m\u001b[0m\n\u001b[0;32m      4\u001b[0m \u001b[0mplt\u001b[0m\u001b[1;33m.\u001b[0m\u001b[0mimshow\u001b[0m\u001b[1;33m(\u001b[0m\u001b[0mimg\u001b[0m\u001b[1;33m)\u001b[0m\u001b[1;33m\u001b[0m\u001b[0m\n",
      "\u001b[1;32mC:\\Programs\\WinPython\\python-3.6.5.amd64\\lib\\site-packages\\matplotlib\\pyplot.py\u001b[0m in \u001b[0;36mimread\u001b[1;34m(*args, **kwargs)\u001b[0m\n\u001b[0;32m   2379\u001b[0m \u001b[1;33m@\u001b[0m\u001b[0mdocstring\u001b[0m\u001b[1;33m.\u001b[0m\u001b[0mcopy_dedent\u001b[0m\u001b[1;33m(\u001b[0m\u001b[0m_imread\u001b[0m\u001b[1;33m)\u001b[0m\u001b[1;33m\u001b[0m\u001b[0m\n\u001b[0;32m   2380\u001b[0m \u001b[1;32mdef\u001b[0m \u001b[0mimread\u001b[0m\u001b[1;33m(\u001b[0m\u001b[1;33m*\u001b[0m\u001b[0margs\u001b[0m\u001b[1;33m,\u001b[0m \u001b[1;33m**\u001b[0m\u001b[0mkwargs\u001b[0m\u001b[1;33m)\u001b[0m\u001b[1;33m:\u001b[0m\u001b[1;33m\u001b[0m\u001b[0m\n\u001b[1;32m-> 2381\u001b[1;33m     \u001b[1;32mreturn\u001b[0m \u001b[0m_imread\u001b[0m\u001b[1;33m(\u001b[0m\u001b[1;33m*\u001b[0m\u001b[0margs\u001b[0m\u001b[1;33m,\u001b[0m \u001b[1;33m**\u001b[0m\u001b[0mkwargs\u001b[0m\u001b[1;33m)\u001b[0m\u001b[1;33m\u001b[0m\u001b[0m\n\u001b[0m\u001b[0;32m   2382\u001b[0m \u001b[1;33m\u001b[0m\u001b[0m\n\u001b[0;32m   2383\u001b[0m \u001b[1;33m\u001b[0m\u001b[0m\n",
      "\u001b[1;32mC:\\Programs\\WinPython\\python-3.6.5.amd64\\lib\\site-packages\\matplotlib\\image.py\u001b[0m in \u001b[0;36mimread\u001b[1;34m(fname, format)\u001b[0m\n\u001b[0;32m   1354\u001b[0m \u001b[1;33m\u001b[0m\u001b[0m\n\u001b[0;32m   1355\u001b[0m     \u001b[1;32mif\u001b[0m \u001b[0mext\u001b[0m \u001b[1;32mnot\u001b[0m \u001b[1;32min\u001b[0m \u001b[0mhandlers\u001b[0m\u001b[1;33m:\u001b[0m\u001b[1;33m\u001b[0m\u001b[0m\n\u001b[1;32m-> 1356\u001b[1;33m         \u001b[0mim\u001b[0m \u001b[1;33m=\u001b[0m \u001b[0mpilread\u001b[0m\u001b[1;33m(\u001b[0m\u001b[0mfname\u001b[0m\u001b[1;33m)\u001b[0m\u001b[1;33m\u001b[0m\u001b[0m\n\u001b[0m\u001b[0;32m   1357\u001b[0m         \u001b[1;32mif\u001b[0m \u001b[0mim\u001b[0m \u001b[1;32mis\u001b[0m \u001b[1;32mNone\u001b[0m\u001b[1;33m:\u001b[0m\u001b[1;33m\u001b[0m\u001b[0m\n\u001b[0;32m   1358\u001b[0m             raise ValueError('Only know how to handle extensions: %s; '\n",
      "\u001b[1;32mC:\\Programs\\WinPython\\python-3.6.5.amd64\\lib\\site-packages\\matplotlib\\image.py\u001b[0m in \u001b[0;36mpilread\u001b[1;34m(fname)\u001b[0m\n\u001b[0;32m   1332\u001b[0m         \u001b[1;32mexcept\u001b[0m \u001b[0mImportError\u001b[0m\u001b[1;33m:\u001b[0m\u001b[1;33m\u001b[0m\u001b[0m\n\u001b[0;32m   1333\u001b[0m             \u001b[1;32mreturn\u001b[0m \u001b[1;32mNone\u001b[0m\u001b[1;33m\u001b[0m\u001b[0m\n\u001b[1;32m-> 1334\u001b[1;33m         \u001b[1;32mwith\u001b[0m \u001b[0mImage\u001b[0m\u001b[1;33m.\u001b[0m\u001b[0mopen\u001b[0m\u001b[1;33m(\u001b[0m\u001b[0mfname\u001b[0m\u001b[1;33m)\u001b[0m \u001b[1;32mas\u001b[0m \u001b[0mimage\u001b[0m\u001b[1;33m:\u001b[0m\u001b[1;33m\u001b[0m\u001b[0m\n\u001b[0m\u001b[0;32m   1335\u001b[0m             \u001b[1;32mreturn\u001b[0m \u001b[0mpil_to_array\u001b[0m\u001b[1;33m(\u001b[0m\u001b[0mimage\u001b[0m\u001b[1;33m)\u001b[0m\u001b[1;33m\u001b[0m\u001b[0m\n\u001b[0;32m   1336\u001b[0m \u001b[1;33m\u001b[0m\u001b[0m\n",
      "\u001b[1;32mC:\\Programs\\WinPython\\python-3.6.5.amd64\\lib\\site-packages\\PIL\\Image.py\u001b[0m in \u001b[0;36mopen\u001b[1;34m(fp, mode)\u001b[0m\n\u001b[0;32m   2541\u001b[0m \u001b[1;33m\u001b[0m\u001b[0m\n\u001b[0;32m   2542\u001b[0m     \u001b[1;32mif\u001b[0m \u001b[0mfilename\u001b[0m\u001b[1;33m:\u001b[0m\u001b[1;33m\u001b[0m\u001b[0m\n\u001b[1;32m-> 2543\u001b[1;33m         \u001b[0mfp\u001b[0m \u001b[1;33m=\u001b[0m \u001b[0mbuiltins\u001b[0m\u001b[1;33m.\u001b[0m\u001b[0mopen\u001b[0m\u001b[1;33m(\u001b[0m\u001b[0mfilename\u001b[0m\u001b[1;33m,\u001b[0m \u001b[1;34m\"rb\"\u001b[0m\u001b[1;33m)\u001b[0m\u001b[1;33m\u001b[0m\u001b[0m\n\u001b[0m\u001b[0;32m   2544\u001b[0m         \u001b[0mexclusive_fp\u001b[0m \u001b[1;33m=\u001b[0m \u001b[1;32mTrue\u001b[0m\u001b[1;33m\u001b[0m\u001b[0m\n\u001b[0;32m   2545\u001b[0m \u001b[1;33m\u001b[0m\u001b[0m\n",
      "\u001b[1;31mFileNotFoundError\u001b[0m: [Errno 2] No such file or directory: 'data\\\\images\\\\eye.bmp'"
     ]
    }
   ],
   "source": [
    "img = plt.imread('data\\images\\eye.bmp')\n",
    "#img = cv2.imread('eye.bmp', cv2.CV_LOAD_IMAGE_GRAYSCALE)\n",
    "plt.set_cmap('gray') # Set the colormap to \"gray\"\n",
    "plt.imshow(img)"
   ]
  },
  {
   "cell_type": "markdown",
   "metadata": {},
   "source": [
    "## Show a graylevel histogram"
   ]
  },
  {
   "cell_type": "code",
   "execution_count": null,
   "metadata": {
    "collapsed": false
   },
   "outputs": [],
   "source": [
    "# The \"_\" is a dummy variable to suppress the output\n",
    "_ = plt.hist(img.flatten(),128)"
   ]
  },
  {
   "cell_type": "markdown",
   "metadata": {},
   "source": [
    "## Thresholding, using \"OpenCV\""
   ]
  },
  {
   "cell_type": "markdown",
   "metadata": {},
   "source": [
    "First, let us simply open an image window in OpenCV. Showing simple images in openCV is more involved, as the command \"waitKey\" is required to update the image.\n",
    "\n",
    "**Note:** The following code with generate a OpenCV-window outside this notebook. To close it, press `Esc`"
   ]
  },
  {
   "cell_type": "code",
   "execution_count": null,
   "metadata": {
    "collapsed": false
   },
   "outputs": [],
   "source": [
    "# Showing the same image in an openCV-window is a bit  tricky:\n",
    "# Note: The following code with generate a OpenCV-window outside this notebook. To close it, press `Esc`\n",
    "\n",
    "cv2.imshow('demo', img)\n",
    "while True:\n",
    "    ch = cv2.waitKey(5)\n",
    "    if ch == 27:\n",
    "        cv2.destroyWindow('demo')\n",
    "        break"
   ]
  },
  {
   "cell_type": "markdown",
   "metadata": {},
   "source": [
    "Next, let us generate an interactive image, where wen can adjust a parameter for the image processing."
   ]
  },
  {
   "cell_type": "code",
   "execution_count": null,
   "metadata": {
    "collapsed": false
   },
   "outputs": [],
   "source": [
    "# Set a threshold, for b/w conversion, using a trackbar\n",
    "cv2.namedWindow('bw')  # First you have to create a named window for OpenCV\n",
    "cv2.createTrackbar('thr', 'bw', 1, 255, nothing)    # dummy function \"nothing\" defined below\n",
    "cv2.setTrackbarPos('thr', 'bw', 85)\n",
    "while True:\n",
    "     thrs = cv2.getTrackbarPos('thr', 'bw')\n",
    "     (thresh, im_bw) = cv2.threshold(img, thrs, 255, cv2.THRESH_BINARY)\n",
    "     cv2.imshow('bw', im_bw)\n",
    "     ch = cv2.waitKey(5)\n",
    "     if ch == 27:\n",
    "         cv2.destroyWindow('bw')\n",
    "         break"
   ]
  },
  {
   "cell_type": "code",
   "execution_count": null,
   "metadata": {
    "collapsed": false
   },
   "outputs": [],
   "source": [
    "plt.imshow(im_bw)"
   ]
  },
  {
   "cell_type": "markdown",
   "metadata": {},
   "source": [
    "## Remove black border, Fill holes"
   ]
  },
  {
   "cell_type": "code",
   "execution_count": null,
   "metadata": {
    "collapsed": false
   },
   "outputs": [],
   "source": [
    "# Remove the black border\n",
    "h,w = img.shape\n",
    "mask = np.zeros( (h+2,w+2), dtype=np.uint8)\n",
    "cv2.floodFill(im_bw, mask, (1,1), 255)\n",
    "    \n",
    "# Fill the holes\n",
    "wHoles = im_bw.copy()\n",
    "# Note that the mask has to be 2 pixels larger than the image!\n",
    "mask = np.zeros( (h+2,w+2), dtype=np.uint8)\n",
    "cv2.floodFill(wHoles, mask, (1,1), 0)\n",
    "im_bw[wHoles==255] = 0\n",
    "plt.imshow(im_bw)"
   ]
  },
  {
   "cell_type": "markdown",
   "metadata": {},
   "source": [
    "## Eliminate Eyelid, by \"closing\" the image"
   ]
  },
  {
   "cell_type": "code",
   "execution_count": null,
   "metadata": {
    "collapsed": false
   },
   "outputs": [],
   "source": [
    "from skimage.morphology import disk\n",
    "strEl = disk(10)  # structural Element\n",
    "closed = cv2.morphologyEx(im_bw, cv2.MORPH_CLOSE, strEl)\n",
    "plt.imshow(closed)"
   ]
  },
  {
   "cell_type": "markdown",
   "metadata": {},
   "source": [
    "## Edgy Finish"
   ]
  },
  {
   "cell_type": "code",
   "execution_count": null,
   "metadata": {
    "collapsed": false
   },
   "outputs": [],
   "source": [
    "thrs1 = 1000\n",
    "thrs2 = 1000\n",
    "edge = cv2.Canny(closed, thrs1, thrs2, apertureSize=5)\n",
    "plt.imshow(edge)"
   ]
  },
  {
   "cell_type": "markdown",
   "metadata": {},
   "source": [
    "[ImgProc_2_Filtering](ImgProc_2_Filtering.ipynb)<img src=\"data/images/Forward_Backward.png\" align=\"middle\"> [ImgProc_3b_FindPupil_skimage](ImgProc_3b_FindPupil_skimage.ipynb)"
   ]
  },
  {
   "cell_type": "markdown",
   "metadata": {},
   "source": [
    "\n",
    "    Author: Thomas Haslwanter\n",
    "    Date: May 9, 2016\n",
    "    Ver: 2.0\n",
    "\n",
    "<img src=\"data/images/CCA_40.png\">\n",
    "*Auditory Sound Processing*  is licensed under a Creative Commons Attribution 4.0 International License."
   ]
  },
  {
   "cell_type": "code",
   "execution_count": null,
   "metadata": {
    "collapsed": true
   },
   "outputs": [],
   "source": []
  }
 ],
 "metadata": {
  "kernelspec": {
   "display_name": "Python 3",
   "language": "python",
   "name": "python3"
  },
  "language_info": {
   "codemirror_mode": {
    "name": "ipython",
    "version": 3
   },
   "file_extension": ".py",
   "mimetype": "text/x-python",
   "name": "python",
   "nbconvert_exporter": "python",
   "pygments_lexer": "ipython3",
   "version": "3.6.5"
  }
 },
 "nbformat": 4,
 "nbformat_minor": 2
}
